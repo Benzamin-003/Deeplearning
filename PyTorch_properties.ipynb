{
  "nbformat": 4,
  "nbformat_minor": 0,
  "metadata": {
    "colab": {
      "provenance": [],
      "gpuType": "T4",
      "authorship_tag": "ABX9TyPPDZ7zyrDH4/Ch96TLRF7M",
      "include_colab_link": true
    },
    "kernelspec": {
      "name": "python3",
      "display_name": "Python 3"
    },
    "language_info": {
      "name": "python"
    },
    "accelerator": "GPU"
  },
  "cells": [
    {
      "cell_type": "markdown",
      "metadata": {
        "id": "view-in-github",
        "colab_type": "text"
      },
      "source": [
        "<a href=\"https://colab.research.google.com/github/Benzamin-003/Deeplearning/blob/main/PyTorch_properties.ipynb\" target=\"_parent\"><img src=\"https://colab.research.google.com/assets/colab-badge.svg\" alt=\"Open In Colab\"/></a>"
      ]
    },
    {
      "cell_type": "code",
      "execution_count": null,
      "metadata": {
        "colab": {
          "base_uri": "https://localhost:8080/"
        },
        "id": "UYiWUFREaq-Y",
        "outputId": "a253a157-9eee-4588-a949-6274f99413d9"
      },
      "outputs": [
        {
          "output_type": "stream",
          "name": "stdout",
          "text": [
            "tensor([[0.5831, 0.9437, 0.2703],\n",
            "        [0.8472, 0.9000, 0.8326],\n",
            "        [0.5303, 0.4064, 0.4072]])\n"
          ]
        }
      ],
      "source": [
        "import torch\n",
        "x=torch.rand(3,3)\n",
        "print(x)"
      ]
    },
    {
      "cell_type": "code",
      "source": [
        "torch.cuda.is_available()"
      ],
      "metadata": {
        "colab": {
          "base_uri": "https://localhost:8080/"
        },
        "id": "HKHlfGknazLK",
        "outputId": "8d0cddac-f55e-4e01-842b-7ab4e59b5873"
      },
      "execution_count": null,
      "outputs": [
        {
          "output_type": "execute_result",
          "data": {
            "text/plain": [
              "True"
            ]
          },
          "metadata": {},
          "execution_count": 2
        }
      ]
    },
    {
      "cell_type": "code",
      "source": [
        "x=torch.empty(2,3)\n",
        "x"
      ],
      "metadata": {
        "colab": {
          "base_uri": "https://localhost:8080/"
        },
        "id": "GVOJTqTFbBwH",
        "outputId": "d3bf1567-e54b-477b-ec1f-c8f4318c5b22"
      },
      "execution_count": null,
      "outputs": [
        {
          "output_type": "execute_result",
          "data": {
            "text/plain": [
              "tensor([[1.2064e-33, 0.0000e+00, 9.4427e-34],\n",
              "        [0.0000e+00, 1.1210e-43, 0.0000e+00]])"
            ]
          },
          "metadata": {},
          "execution_count": 6
        }
      ]
    },
    {
      "cell_type": "code",
      "source": [
        "x=torch.zeros(4,3)\n",
        "x"
      ],
      "metadata": {
        "colab": {
          "base_uri": "https://localhost:8080/"
        },
        "id": "CIGlLWe-cjYH",
        "outputId": "7522aac2-cb67-44d5-dd67-6d49357747ae"
      },
      "execution_count": null,
      "outputs": [
        {
          "output_type": "execute_result",
          "data": {
            "text/plain": [
              "tensor([[0., 0., 0.],\n",
              "        [0., 0., 0.],\n",
              "        [0., 0., 0.],\n",
              "        [0., 0., 0.]])"
            ]
          },
          "metadata": {},
          "execution_count": 7
        }
      ]
    },
    {
      "cell_type": "code",
      "source": [
        "x=torch.ones(2,4)\n",
        "x"
      ],
      "metadata": {
        "colab": {
          "base_uri": "https://localhost:8080/"
        },
        "id": "HBYlMYc_c__H",
        "outputId": "71d04fe4-24c5-4f1f-ca33-41049bb7713f"
      },
      "execution_count": null,
      "outputs": [
        {
          "output_type": "execute_result",
          "data": {
            "text/plain": [
              "tensor([[1., 1., 1., 1.],\n",
              "        [1., 1., 1., 1.]])"
            ]
          },
          "metadata": {},
          "execution_count": 8
        }
      ]
    },
    {
      "cell_type": "code",
      "source": [
        "import numpy as np\n",
        "arr = np.array([[1,1,2,2],\n",
        " [3,3,4,4]])\n",
        "arr"
      ],
      "metadata": {
        "colab": {
          "base_uri": "https://localhost:8080/"
        },
        "id": "KJEWn0rfdFe8",
        "outputId": "d30ea715-7ca1-4392-864b-959ec9cb23c1"
      },
      "execution_count": null,
      "outputs": [
        {
          "output_type": "execute_result",
          "data": {
            "text/plain": [
              "array([[1, 1, 2, 2],\n",
              "       [3, 3, 4, 4]])"
            ]
          },
          "metadata": {},
          "execution_count": 13
        }
      ]
    },
    {
      "cell_type": "code",
      "source": [
        "x=torch.tensor([[1,2],[3,4]],dtype=float)\n",
        "#properties of torch\n",
        "print(x.size())\n",
        "print(x.dtype)\n",
        "print(x.device)"
      ],
      "metadata": {
        "colab": {
          "base_uri": "https://localhost:8080/"
        },
        "id": "vvXvkHX6duXO",
        "outputId": "5702188a-b3d7-4ef0-b51e-2fe2ac76163c"
      },
      "execution_count": null,
      "outputs": [
        {
          "output_type": "stream",
          "name": "stdout",
          "text": [
            "torch.Size([2, 2])\n",
            "torch.float64\n",
            "cpu\n"
          ]
        }
      ]
    },
    {
      "cell_type": "code",
      "source": [
        "x=np.array([[1,2],[3,4]],dtype=float)\n",
        "x"
      ],
      "metadata": {
        "colab": {
          "base_uri": "https://localhost:8080/"
        },
        "id": "K0QKRnFFepU5",
        "outputId": "58d1d901-5786-45ee-c051-91b549565839"
      },
      "execution_count": null,
      "outputs": [
        {
          "output_type": "execute_result",
          "data": {
            "text/plain": [
              "array([[1., 2.],\n",
              "       [3., 4.]])"
            ]
          },
          "metadata": {},
          "execution_count": 15
        }
      ]
    },
    {
      "cell_type": "code",
      "source": [
        "# Indexing\n",
        "print(x[:,1])"
      ],
      "metadata": {
        "colab": {
          "base_uri": "https://localhost:8080/"
        },
        "id": "4AmPXfLHfLrt",
        "outputId": "883480d6-ae46-4524-d7bc-c845aeede9f5"
      },
      "execution_count": null,
      "outputs": [
        {
          "output_type": "stream",
          "name": "stdout",
          "text": [
            "tensor([2., 4.], dtype=torch.float64)\n"
          ]
        }
      ]
    },
    {
      "cell_type": "code",
      "source": [
        "# Reshaping\n",
        "x=torch.arange(2,33,2)\n",
        "x=x.view(4,4)\n",
        "x"
      ],
      "metadata": {
        "colab": {
          "base_uri": "https://localhost:8080/"
        },
        "id": "Enigs553gQ-H",
        "outputId": "9b0cd31a-acb2-4bd7-a2c7-f7b3c048a84f"
      },
      "execution_count": null,
      "outputs": [
        {
          "output_type": "execute_result",
          "data": {
            "text/plain": [
              "tensor([[ 2,  4,  6,  8],\n",
              "        [10, 12, 14, 16],\n",
              "        [18, 20, 22, 24],\n",
              "        [26, 28, 30, 32]])"
            ]
          },
          "metadata": {},
          "execution_count": 25
        }
      ]
    },
    {
      "cell_type": "code",
      "source": [
        "if torch.cuda.is_available():\n",
        "  tensor_gpu=x.to(\"cuda\")\n",
        "  print(tensor_gpu)\n"
      ],
      "metadata": {
        "colab": {
          "base_uri": "https://localhost:8080/"
        },
        "id": "jqKMMoXDicEq",
        "outputId": "6b192c75-4831-4ac3-cb46-3684e4bb814b"
      },
      "execution_count": null,
      "outputs": [
        {
          "output_type": "stream",
          "name": "stdout",
          "text": [
            "tensor([[ 2,  4,  6,  8],\n",
            "        [10, 12, 14, 16],\n",
            "        [18, 20, 22, 24],\n",
            "        [26, 28, 30, 32]], device='cuda:0')\n"
          ]
        }
      ]
    },
    {
      "cell_type": "code",
      "source": [
        "x=torch.tensor([[1,2],[3,4]],device='cuda:0')\n",
        "x.device"
      ],
      "metadata": {
        "colab": {
          "base_uri": "https://localhost:8080/"
        },
        "id": "zS2OUIVejbGI",
        "outputId": "e2aa2101-8e85-484a-e827-20a5ac9c61bc"
      },
      "execution_count": null,
      "outputs": [
        {
          "output_type": "execute_result",
          "data": {
            "text/plain": [
              "device(type='cuda', index=0)"
            ]
          },
          "metadata": {},
          "execution_count": 27
        }
      ]
    },
    {
      "cell_type": "code",
      "source": [
        "x=torch.tensor([[10,20,30],[40,50,60],[70,80,90]])\n",
        "print(x[0])\n",
        "print(x[1,2])\n",
        "print(x[-1])\n",
        "print(x[:,0])\n",
        "print(x[0:2,:])\n",
        "print(x[:,1:])\n",
        "print(x[::2,::2])"
      ],
      "metadata": {
        "colab": {
          "base_uri": "https://localhost:8080/"
        },
        "id": "oWAfulDPj64K",
        "outputId": "097c39ef-5f2e-49d3-f2a6-7e30a15d5d5f"
      },
      "execution_count": null,
      "outputs": [
        {
          "output_type": "stream",
          "name": "stdout",
          "text": [
            "tensor([10, 20, 30])\n",
            "tensor(60)\n",
            "tensor([70, 80, 90])\n",
            "tensor([10, 40, 70])\n",
            "tensor([[10, 20, 30],\n",
            "        [40, 50, 60]])\n",
            "tensor([[20, 30],\n",
            "        [50, 60],\n",
            "        [80, 90]])\n",
            "tensor([[10, 30],\n",
            "        [70, 90]])\n"
          ]
        }
      ]
    },
    {
      "cell_type": "code",
      "source": [
        "#Fancy Indexing\n",
        "rows=torch.tensor([0,2])\n",
        "cols=torch.tensor([1,2])\n",
        "print(x[rows,cols])"
      ],
      "metadata": {
        "colab": {
          "base_uri": "https://localhost:8080/"
        },
        "id": "t6kAaUPImV-1",
        "outputId": "15f6bf47-973f-45a7-c777-dab7fa236269"
      },
      "execution_count": null,
      "outputs": [
        {
          "output_type": "stream",
          "name": "stdout",
          "text": [
            "tensor([20, 90])\n"
          ]
        }
      ]
    },
    {
      "cell_type": "code",
      "source": [
        "#Boolean mask\n",
        "mask=x>50\n",
        "print(mask)\n",
        "print(x[mask])"
      ],
      "metadata": {
        "colab": {
          "base_uri": "https://localhost:8080/"
        },
        "id": "30NNin9QobRN",
        "outputId": "7a3ea20c-f52d-4003-a9bd-1ed77e130510"
      },
      "execution_count": null,
      "outputs": [
        {
          "output_type": "stream",
          "name": "stdout",
          "text": [
            "tensor([[False, False, False],\n",
            "        [False, False,  True],\n",
            "        [ True,  True,  True]])\n",
            "tensor([60, 70, 80, 90])\n"
          ]
        }
      ]
    },
    {
      "cell_type": "code",
      "source": [
        "x[0,2]=25\n",
        "print(x)\n",
        "x[:,1]=torch.tensor([111,222,333])\n",
        "print(x)"
      ],
      "metadata": {
        "colab": {
          "base_uri": "https://localhost:8080/"
        },
        "id": "351-90XPo2pE",
        "outputId": "3760ed3b-0045-4f92-9ff6-995cae132d20"
      },
      "execution_count": null,
      "outputs": [
        {
          "output_type": "stream",
          "name": "stdout",
          "text": [
            "tensor([[ 10, 111,  25],\n",
            "        [ 40, 222,  60],\n",
            "        [ 70, 333,  90]])\n",
            "tensor([[ 10, 111,  25],\n",
            "        [ 40, 222,  60],\n",
            "        [ 70, 333,  90]])\n"
          ]
        }
      ]
    },
    {
      "cell_type": "code",
      "source": [
        "from sklearn.preprocessing import LabelEncoder"
      ],
      "metadata": {
        "id": "Sg7bwEVdppII"
      },
      "execution_count": null,
      "outputs": []
    },
    {
      "cell_type": "code",
      "source": [
        "import time"
      ],
      "metadata": {
        "id": "Xq1j7BWdr1sw"
      },
      "execution_count": null,
      "outputs": []
    },
    {
      "cell_type": "code",
      "source": [
        "a=np.random.rand(5000,5000)\n",
        "start=time.time()\n",
        "np.dot(a,a)\n",
        "print('Numpy Time: ',time.time()-start)\n",
        "\n",
        "a_t=torch.rand(5000,5000,device='cuda')\n",
        "torch.cuda.synchronize()\n",
        "start = time.time()\n",
        "torch.matmul(a_t,a_t)\n",
        "torch.cuda.synchronize()\n",
        "print('PyTorch GPU time:', time.time() - start)\n",
        "\n"
      ],
      "metadata": {
        "colab": {
          "base_uri": "https://localhost:8080/"
        },
        "id": "qIkf5fTDr6OO",
        "outputId": "53956e9f-e19d-48ae-b5ef-1aff0c61c4f4"
      },
      "execution_count": null,
      "outputs": [
        {
          "output_type": "stream",
          "name": "stdout",
          "text": [
            "Numpy Time:  4.250982761383057\n",
            "PyTorch GPU time: 0.27414608001708984\n"
          ]
        }
      ]
    },
    {
      "cell_type": "code",
      "source": [],
      "metadata": {
        "id": "6r_cqEWOw4U8"
      },
      "execution_count": null,
      "outputs": []
    }
  ]
}
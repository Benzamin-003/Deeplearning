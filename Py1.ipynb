{
  "nbformat": 4,
  "nbformat_minor": 0,
  "metadata": {
    "colab": {
      "provenance": [],
      "authorship_tag": "ABX9TyOABCGtETcYL5ZisSxwPtOM",
      "include_colab_link": true
    },
    "kernelspec": {
      "name": "python3",
      "display_name": "Python 3"
    },
    "language_info": {
      "name": "python"
    }
  },
  "cells": [
    {
      "cell_type": "markdown",
      "metadata": {
        "id": "view-in-github",
        "colab_type": "text"
      },
      "source": [
        "<a href=\"https://colab.research.google.com/github/Benzamin-003/Deeplearning/blob/main/Py1.ipynb\" target=\"_parent\"><img src=\"https://colab.research.google.com/assets/colab-badge.svg\" alt=\"Open In Colab\"/></a>"
      ]
    },
    {
      "cell_type": "code",
      "execution_count": null,
      "metadata": {
        "colab": {
          "base_uri": "https://localhost:8080/"
        },
        "id": "-hqwb0EagyI4",
        "outputId": "cb14c482-a15d-4e93-e9f0-2fbf539500a3"
      },
      "outputs": [
        {
          "output_type": "stream",
          "name": "stdout",
          "text": [
            "Odd_index_elements: tensor([20, 40, 60])\n"
          ]
        }
      ],
      "source": [
        "import torch\n",
        "\n",
        "tensor = torch.tensor([10, 20, 30, 40, 50, 60])\n",
        "odd_index_elements = tensor[1::2]\n",
        "\n",
        "print(\"Odd_index_elements:\", odd_index_elements)\n"
      ]
    },
    {
      "cell_type": "code",
      "source": [
        "import torch\n",
        "\n",
        "tensor = torch.tensor([10, 20, 30, 40, 50])\n",
        "reversed_tensor = torch.flip(tensor, dims=[0])\n",
        "\n",
        "print(\"Reversed tensor:\", reversed_tensor)\n"
      ],
      "metadata": {
        "colab": {
          "base_uri": "https://localhost:8080/"
        },
        "id": "wYQoDDAWg3sY",
        "outputId": "ccd0bd2b-1e4c-4ed4-af7a-133930f6823d"
      },
      "execution_count": null,
      "outputs": [
        {
          "output_type": "stream",
          "name": "stdout",
          "text": [
            "Reversed tensor: tensor([50, 40, 30, 20, 10])\n"
          ]
        }
      ]
    },
    {
      "cell_type": "code",
      "source": [
        "import torch\n",
        "tensor = torch.tensor([\n",
        "    [1, 2, 3, 4],\n",
        "\n",
        "    [5, 6, 7, 8],\n",
        "    [9, 10, 11, 12],\n",
        "    [13, 14, 15, 16]\n",
        "])\n",
        "\n",
        "submatrix = tensor[0:2, 0:2]\n",
        "print(\"\\nExtracted Submatrix:\\n\", submatrix)\n"
      ],
      "metadata": {
        "colab": {
          "base_uri": "https://localhost:8080/"
        },
        "id": "RSV08AIog6s9",
        "outputId": "29461809-0804-46d0-a51d-82cf024a60a0"
      },
      "execution_count": null,
      "outputs": [
        {
          "output_type": "stream",
          "name": "stdout",
          "text": [
            "\n",
            "Extracted Submatrix:\n",
            " tensor([[1, 2],\n",
            "        [5, 6]])\n"
          ]
        }
      ]
    },
    {
      "cell_type": "code",
      "source": [
        "import torch\n",
        "\n",
        "tensor = torch.arange(1, 21)  # Tensor with values from 1 to 20\n",
        "\n",
        "print(\"First 5 elements:\", tensor[:5])\n",
        "\n",
        "print(\"Every 3rd element:\", tensor[::3])\n",
        "print(\"Elements from index 10 to 15:\", tensor[10:16])\n"
      ],
      "metadata": {
        "colab": {
          "base_uri": "https://localhost:8080/"
        },
        "id": "oe-BlOTqhSPT",
        "outputId": "610782e2-1bca-470b-e542-7bac7a0ae849"
      },
      "execution_count": null,
      "outputs": [
        {
          "output_type": "stream",
          "name": "stdout",
          "text": [
            "First 5 elements: tensor([1, 2, 3, 4, 5])\n",
            "Every 3rd element: tensor([ 1,  4,  7, 10, 13, 16, 19])\n",
            "Elements from index 10 to 15: tensor([11, 12, 13, 14, 15, 16])\n"
          ]
        }
      ]
    },
    {
      "cell_type": "code",
      "source": [
        "import torch\n",
        "import torch.nn as nn\n",
        "import torch.nn.functional as F\n",
        "\n",
        "x = torch.randn(10, 4)\n",
        "\n",
        "class SimpleModel(nn.Module):\n",
        "    def __init__(self):\n",
        "        super(SimpleModel, self).__init__()\n",
        "        self.fc1 = nn.Linear(4, 5)\n",
        "        self.fc2 = nn.Linear(5, 3)\n",
        "        self.fc3 = nn.Linear(3, 1)\n",
        "\n",
        "    def forward(self, x):\n",
        "        out1 = self.fc1(x)\n",
        "        print(\"After fc1 (linear):\", out1)\n",
        "\n",
        "        out1_relu = F.relu(out1)\n",
        "        print(\"After ReLU 1:\", out1_relu)\n",
        "\n",
        "        out2 = self.fc2(out1_relu)\n",
        "        print(\"After fc2 (linear):\", out2)\n",
        "\n",
        "        out2_relu = F.relu(out2)\n",
        "        print(\"After ReLU 2:\", out2_relu)\n",
        "\n",
        "        output = self.fc3(out2_relu)\n",
        "        print(\"After fc3 (output):\", output)\n",
        "\n",
        "        return output\n",
        "\n",
        "model = SimpleModel()\n",
        "output = model(x)\n"
      ],
      "metadata": {
        "colab": {
          "base_uri": "https://localhost:8080/"
        },
        "id": "TET_RjwmhjaD",
        "outputId": "e94e23b5-2f75-4af7-bd50-b252d26fb5c1"
      },
      "execution_count": null,
      "outputs": [
        {
          "output_type": "stream",
          "name": "stdout",
          "text": [
            "After fc1 (linear): tensor([[-1.6334e+00,  4.3445e-01,  8.0642e-01, -1.7635e+00,  5.1120e-01],\n",
            "        [-5.2992e-01, -3.3513e-01, -2.1639e-01, -4.5523e-01,  4.6347e-01],\n",
            "        [ 3.1230e-01,  1.5479e-02, -7.0642e-02, -1.1940e+00,  4.8999e-01],\n",
            "        [ 8.1102e-02,  1.7941e-01, -7.4459e-01, -5.6823e-01, -3.4445e-01],\n",
            "        [ 6.4634e-01,  2.5141e-01, -1.0179e-03, -1.1723e+00,  1.3724e-01],\n",
            "        [-1.1964e+00, -3.9464e-01, -1.0720e+00,  1.9350e-01, -9.1973e-02],\n",
            "        [-7.6658e-02, -7.8594e-01, -1.3824e+00,  1.9085e-01,  3.9556e-01],\n",
            "        [-7.2490e-01, -3.8017e-01, -3.2840e-01, -3.4688e-01,  4.3086e-01],\n",
            "        [ 4.9584e-01, -2.1027e-01, -1.4768e+00, -6.1491e-01,  8.8600e-02],\n",
            "        [ 7.7570e-01,  8.5029e-04, -3.3275e-01, -7.4391e-01,  1.2432e-01]],\n",
            "       grad_fn=<AddmmBackward0>)\n",
            "After ReLU 1: tensor([[0.0000, 0.4344, 0.8064, 0.0000, 0.5112],\n",
            "        [0.0000, 0.0000, 0.0000, 0.0000, 0.4635],\n",
            "        [0.3123, 0.0155, 0.0000, 0.0000, 0.4900],\n",
            "        [0.0811, 0.1794, 0.0000, 0.0000, 0.0000],\n",
            "        [0.6463, 0.2514, 0.0000, 0.0000, 0.1372],\n",
            "        [0.0000, 0.0000, 0.0000, 0.1935, 0.0000],\n",
            "        [0.0000, 0.0000, 0.0000, 0.1909, 0.3956],\n",
            "        [0.0000, 0.0000, 0.0000, 0.0000, 0.4309],\n",
            "        [0.4958, 0.0000, 0.0000, 0.0000, 0.0886],\n",
            "        [0.7757, 0.0009, 0.0000, 0.0000, 0.1243]], grad_fn=<ReluBackward0>)\n",
            "After fc2 (linear): tensor([[-0.6382, -0.1078, -0.0646],\n",
            "        [-0.1998,  0.3259, -0.3695],\n",
            "        [-0.1620,  0.3102, -0.3652],\n",
            "        [-0.2571,  0.1288, -0.1901],\n",
            "        [-0.2030,  0.1053, -0.1876],\n",
            "        [-0.2057,  0.1453, -0.3371],\n",
            "        [-0.2008,  0.2478, -0.4315],\n",
            "        [-0.2002,  0.3175, -0.3616],\n",
            "        [-0.1363,  0.2039, -0.2711],\n",
            "        [-0.0978,  0.1982, -0.2750]], grad_fn=<AddmmBackward0>)\n",
            "After ReLU 2: tensor([[0.0000, 0.0000, 0.0000],\n",
            "        [0.0000, 0.3259, 0.0000],\n",
            "        [0.0000, 0.3102, 0.0000],\n",
            "        [0.0000, 0.1288, 0.0000],\n",
            "        [0.0000, 0.1053, 0.0000],\n",
            "        [0.0000, 0.1453, 0.0000],\n",
            "        [0.0000, 0.2478, 0.0000],\n",
            "        [0.0000, 0.3175, 0.0000],\n",
            "        [0.0000, 0.2039, 0.0000],\n",
            "        [0.0000, 0.1982, 0.0000]], grad_fn=<ReluBackward0>)\n",
            "After fc3 (output): tensor([[0.5195],\n",
            "        [0.3580],\n",
            "        [0.3658],\n",
            "        [0.4557],\n",
            "        [0.4673],\n",
            "        [0.4475],\n",
            "        [0.3967],\n",
            "        [0.3622],\n",
            "        [0.4185],\n",
            "        [0.4213]], grad_fn=<AddmmBackward0>)\n"
          ]
        }
      ]
    },
    {
      "cell_type": "code",
      "source": [
        "import tensorflow as tf\n",
        "\n",
        "@tf.function\n",
        "def f(x):\n",
        "    tf.print(\"In graph, input:\", tf.shape(x))\n",
        "    return x * 2\n",
        "\n",
        "f(tf.constant([1, 2, 3]))"
      ],
      "metadata": {
        "id": "VrOSw2A-j_tl",
        "colab": {
          "base_uri": "https://localhost:8080/"
        },
        "outputId": "7c57b1ed-d0cc-40a3-deef-42128a8a190e"
      },
      "execution_count": null,
      "outputs": [
        {
          "output_type": "stream",
          "name": "stdout",
          "text": [
            "In graph, input: [3]\n"
          ]
        },
        {
          "output_type": "execute_result",
          "data": {
            "text/plain": [
              "<tf.Tensor: shape=(3,), dtype=int32, numpy=array([2, 4, 6], dtype=int32)>"
            ]
          },
          "metadata": {},
          "execution_count": 1
        }
      ]
    },
    {
      "cell_type": "code",
      "source": [],
      "metadata": {
        "id": "5wZbrFP3axbv"
      },
      "execution_count": null,
      "outputs": []
    }
  ]
}